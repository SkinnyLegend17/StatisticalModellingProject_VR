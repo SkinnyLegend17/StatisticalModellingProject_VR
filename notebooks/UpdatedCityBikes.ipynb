Part 1: CityBikes API
## Send a request to CityBikes for the city of your choice

import requests
import pandas as pd
import os 

# Step 1: Sending a request to CityBikes using /v2/networks endpoint 
city_name = 'Barcelona'
networks_url = 'http://api.citybik.es/v2/networks' 
response = requests.get(networks_url)
networks_data = response.json()

# Step 2: Find network information for Barcelona
network_info = next((network for network in networks_data['networks'] if network['location']['city'] == city_name), None)

if network_info:
    # Use network ID to retrieve info of bike stations in Barcelona
    network_id = network_info['id']
    api_url = f'http://api.citybik.es/v2/networks/{network_id}'

    response = requests.get(api_url)
    data = response.json()

# Checking retrieved info from Network ID 
print(type(data))
print(type(data['network']['stations']))
data['network']['stations'][0].keys()

<class 'dict'>
<class 'list'>
dict_keys(['empty_slots', 'extra', 'free_bikes', 'id', 'latitude', 'longitude', 'name', 'timestamp'])

## Parse through the response to get the details you want for the bike stations in that city (latitude, longitude, number of bikes).
# Parsing through response to get details for the bike stations
data['network']['stations'][15]
{'empty_slots': 19,
 'extra': {'ebikes': 3,
  'has_ebikes': True,
  'normal_bikes': 0,
  'online': True,
  'uid': 293},
 'free_bikes': 3,
 'id': '6862769769ff575bde387fa0dfe64d91',
 'latitude': 41.4283127,
 'longitude': 2.1629889,
 'name': 'C/ GRANOLLERS, 1',
 'timestamp': '2023-12-10T22:08:17.860000Z'}

# Step 3: Extracting station information in Barcelona
station_data = []
for station in data['network']['stations']:
    station_info = {
        'latitude': station['latitude'],
        'longitude': station['longitude'],
        'num_bikes': station['free_bikes'],
    }
    station_data.append(station_info)

## Putting parsed results into a DataFrame 
# Step 4: Creating a dataframe to store the above results
df = pd.DataFrame(station_data)

# Step 5: Explore created dataframe 
print(df.head())

print(df.describe())
    latitude  longitude  num_bikes
0  41.425364   2.185207         14
1  41.430000   2.190246         12
2  41.443365   2.190630          8
3  41.377532   2.170732         15
4  41.375116   2.152309         19
         latitude   longitude   num_bikes
count  506.000000  506.000000  506.000000
mean    41.399846    2.168036    9.563241
std      0.021064    0.024661    7.062448
min     41.346775    2.109154    0.000000
25%     41.383994    2.149077    4.000000
50%     41.396429    2.170662    8.000000
75%     41.412062    2.187232   14.000000
max     41.462095    2.220691   35.000000

response_data = data['network']['stations']
bike_stations = pd.json_normalize(response_data)

# Dropping unnecessary columns 
columns_to_drop = list(bike_stations.columns[6:])
bike_stations = bike_stations.drop(columns=columns_to_drop)

# Return all rows of dataframe 
bike_stations.head()
<div>
<style scoped>
    .dataframe tbody tr th:only-of-type {
        vertical-align: middle;
    }

    .dataframe tbody tr th {
        vertical-align: top;
    }

    .dataframe thead th {
        text-align: right;
    }
</style>
<table border="1" class="dataframe">
  <thead>
    <tr style="text-align: right;">
      <th></th>
      <th>empty_slots</th>
      <th>free_bikes</th>
      <th>id</th>
      <th>latitude</th>
      <th>longitude</th>
      <th>name</th>
    </tr>
  </thead>
  <tbody>
    <tr>
      <th>0</th>
      <td>19</td>
      <td>14</td>
      <td>dedcd93fbe85671e73c79baf58bd7fed</td>
      <td>41.425364</td>
      <td>2.185207</td>
      <td>C/ CARDENAL TEDESCHINI, 13</td>
    </tr>
    <tr>
      <th>1</th>
      <td>13</td>
      <td>12</td>
      <td>5c10c2dba1c5a8e8d9dcbb251fd8eab7</td>
      <td>41.430000</td>
      <td>2.190246</td>
      <td>RAMBLA DE L'ONZE DE SETEMBRE, 69</td>
    </tr>
    <tr>
      <th>2</th>
      <td>15</td>
      <td>8</td>
      <td>f1aaf083aaa04498aad975bc45bdc089</td>
      <td>41.443365</td>
      <td>2.190630</td>
      <td>PG. TORRAS I BAGES, 129</td>
    </tr>
    <tr>
      <th>3</th>
      <td>2</td>
      <td>15</td>
      <td>4a30020e6926a2ba39f88be0f6bba5cb</td>
      <td>41.377532</td>
      <td>2.170732</td>
      <td>C/ SANT OLEGUER, 2</td>
    </tr>
    <tr>
      <th>4</th>
      <td>6</td>
      <td>19</td>
      <td>e964297fbcd2fc96bb6632e5a530d0df</td>
      <td>41.375116</td>
      <td>2.152309</td>
      <td>AV. PARAL.LEL, 194</td>
    </tr>
  </tbody>
</table>
</div>

# Get dimension of dataframe 
bike_stations.shape
(506, 6)

# Retrieve info of dataframe
bike_stations.info()
<class 'pandas.core.frame.DataFrame'>
RangeIndex: 506 entries, 0 to 505
Data columns (total 6 columns):
 #   Column       Non-Null Count  Dtype  
---  ------       --------------  -----  
 0   empty_slots  506 non-null    int64  
 1   free_bikes   506 non-null    int64  
 2   id           506 non-null    object 
 3   latitude     506 non-null    float64
 4   longitude    506 non-null    float64
 5   name         506 non-null    object 
dtypes: float64(2), int64(2), object(2)
memory usage: 23.8+ KB

directory = '../data'
file_path = f'{directory}/bike_stations_barcelona.csv'

if not os.path.exists(directory):
    os.makedirs(directory)
#save data to use in another notebook
bike_stations.to_csv(file_path, index=False)











