{
 "cells": [
  {
   "cell_type": "markdown",
   "metadata": {},
   "source": [
    "# CityBikes"
   ]
  },
  {
   "cell_type": "markdown",
   "metadata": {},
   "source": [
    "Send a request to CityBikes for the city of your choice. "
   ]
  },
  {
   "cell_type": "code",
   "execution_count": 1,
   "metadata": {},
   "outputs": [],
   "source": [
    "import requests\n",
    "import pandas as pd\n",
    "import os "
   ]
  },
  {
   "cell_type": "code",
   "execution_count": 2,
   "metadata": {},
   "outputs": [],
   "source": [
    "# Step 1: Sending a request to CityBikes using /v2/networks endpoint \n",
    "city_name = 'Barcelona'\n",
    "networks_url = 'http://api.citybik.es/v2/networks' \n",
    "response = requests.get(networks_url)\n",
    "networks_data = response.json()"
   ]
  },
  {
   "cell_type": "code",
   "execution_count": 3,
   "metadata": {},
   "outputs": [],
   "source": [
    "# Step 2: Find network information for Barcelona\n",
    "network_info = next((network for network in networks_data['networks'] if network['location']['city'] == city_name), None)\n",
    "\n",
    "if network_info:\n",
    "    # Use network ID to retrieve info of bike stations in Barcelona\n",
    "    network_id = network_info['id']\n",
    "    api_url = f'http://api.citybik.es/v2/networks/{network_id}'\n",
    "\n",
    "    response = requests.get(api_url)\n",
    "    data = response.json()"
   ]
  },
  {
   "cell_type": "code",
   "execution_count": 4,
   "metadata": {},
   "outputs": [
    {
     "name": "stdout",
     "output_type": "stream",
     "text": [
      "<class 'dict'>\n",
      "<class 'list'>\n"
     ]
    },
    {
     "data": {
      "text/plain": [
       "dict_keys(['empty_slots', 'extra', 'free_bikes', 'id', 'latitude', 'longitude', 'name', 'timestamp'])"
      ]
     },
     "execution_count": 4,
     "metadata": {},
     "output_type": "execute_result"
    }
   ],
   "source": [
    "# Checking retrieved info from Network ID of bike stations\n",
    "print(type(data))\n",
    "print(type(data['network']['stations']))\n",
    "data['network']['stations'][0].keys()"
   ]
  },
  {
   "cell_type": "markdown",
   "metadata": {},
   "source": [
    "Parse through the response to get the details you want for the bike stations in that city (latitude, longitude, number of bikes). "
   ]
  },
  {
   "cell_type": "code",
   "execution_count": 5,
   "metadata": {},
   "outputs": [
    {
     "data": {
      "text/plain": [
       "{'empty_slots': 27,\n",
       " 'extra': {'ebikes': 0,\n",
       "  'has_ebikes': True,\n",
       "  'normal_bikes': 0,\n",
       "  'online': True,\n",
       "  'uid': 305},\n",
       " 'free_bikes': 0,\n",
       " 'id': '094eb7b65cdf38f3f7abd6fe76833690',\n",
       " 'latitude': 41.3875297,\n",
       " 'longitude': 2.1237141,\n",
       " 'name': 'AV. DIAGONAL, 680',\n",
       " 'timestamp': '2023-12-20T22:33:27.541000Z'}"
      ]
     },
     "execution_count": 5,
     "metadata": {},
     "output_type": "execute_result"
    }
   ],
   "source": [
    "# Parsing through response to get details for the bike stations\n",
    "data['network']['stations'][15]"
   ]
  },
  {
   "cell_type": "code",
   "execution_count": 6,
   "metadata": {},
   "outputs": [],
   "source": [
    "# Step 3: Extracting station information in Barcelona\n",
    "station_data = []\n",
    "for station in data['network']['stations']:\n",
    "    station_info = {\n",
    "        'latitude': station['latitude'],\n",
    "        'longitude': station['longitude'],\n",
    "        'num_bikes': station['free_bikes'],\n",
    "    }\n",
    "    station_data.append(station_info)"
   ]
  },
  {
   "cell_type": "markdown",
   "metadata": {},
   "source": [
    "Put your parsed results into a DataFrame."
   ]
  },
  {
   "cell_type": "code",
   "execution_count": 7,
   "metadata": {},
   "outputs": [],
   "source": [
    "# Step 4: Creating a dataframe to store the above results\n",
    "df = pd.DataFrame(station_data)"
   ]
  },
  {
   "cell_type": "code",
   "execution_count": 8,
   "metadata": {},
   "outputs": [
    {
     "name": "stdout",
     "output_type": "stream",
     "text": [
      "    latitude  longitude  num_bikes\n",
      "0  41.425364   2.185207          7\n",
      "1  41.430000   2.190246         22\n",
      "2  41.443365   2.190630         13\n",
      "3  41.377532   2.170732          9\n",
      "4  41.375116   2.152309         11\n",
      "         latitude   longitude   num_bikes\n",
      "count  505.000000  505.000000  505.000000\n",
      "mean    41.399842    2.168088    9.766337\n",
      "std      0.021075    0.024644    7.112256\n",
      "min     41.346775    2.109154    0.000000\n",
      "25%     41.383904    2.149144    4.000000\n",
      "50%     41.396141    2.170675    9.000000\n",
      "75%     41.412068    2.187196   15.000000\n",
      "max     41.462095    2.220691   35.000000\n"
     ]
    }
   ],
   "source": [
    "# Step 5: Explore created dataframe \n",
    "print(df.head())\n",
    "\n",
    "print(df.describe())"
   ]
  },
  {
   "cell_type": "code",
   "execution_count": 9,
   "metadata": {},
   "outputs": [],
   "source": [
    "response_data = data['network']['stations']\n",
    "bike_stations = pd.json_normalize(response_data)\n",
    "\n",
    "# Dropping unnecessary columns \n",
    "columns_to_drop = list(bike_stations.columns[6:])\n",
    "bike_stations = bike_stations.drop(columns=columns_to_drop)"
   ]
  },
  {
   "cell_type": "code",
   "execution_count": 10,
   "metadata": {},
   "outputs": [
    {
     "data": {
      "text/html": [
       "<div>\n",
       "<style scoped>\n",
       "    .dataframe tbody tr th:only-of-type {\n",
       "        vertical-align: middle;\n",
       "    }\n",
       "\n",
       "    .dataframe tbody tr th {\n",
       "        vertical-align: top;\n",
       "    }\n",
       "\n",
       "    .dataframe thead th {\n",
       "        text-align: right;\n",
       "    }\n",
       "</style>\n",
       "<table border=\"1\" class=\"dataframe\">\n",
       "  <thead>\n",
       "    <tr style=\"text-align: right;\">\n",
       "      <th></th>\n",
       "      <th>empty_slots</th>\n",
       "      <th>free_bikes</th>\n",
       "      <th>id</th>\n",
       "      <th>latitude</th>\n",
       "      <th>longitude</th>\n",
       "      <th>name</th>\n",
       "    </tr>\n",
       "  </thead>\n",
       "  <tbody>\n",
       "    <tr>\n",
       "      <th>0</th>\n",
       "      <td>23</td>\n",
       "      <td>7</td>\n",
       "      <td>dedcd93fbe85671e73c79baf58bd7fed</td>\n",
       "      <td>41.425364</td>\n",
       "      <td>2.185207</td>\n",
       "      <td>C/ CARDENAL TEDESCHINI, 13</td>\n",
       "    </tr>\n",
       "    <tr>\n",
       "      <th>1</th>\n",
       "      <td>3</td>\n",
       "      <td>22</td>\n",
       "      <td>5c10c2dba1c5a8e8d9dcbb251fd8eab7</td>\n",
       "      <td>41.430000</td>\n",
       "      <td>2.190246</td>\n",
       "      <td>RAMBLA DE L'ONZE DE SETEMBRE, 69</td>\n",
       "    </tr>\n",
       "    <tr>\n",
       "      <th>2</th>\n",
       "      <td>11</td>\n",
       "      <td>13</td>\n",
       "      <td>f1aaf083aaa04498aad975bc45bdc089</td>\n",
       "      <td>41.443365</td>\n",
       "      <td>2.190630</td>\n",
       "      <td>PG. TORRAS I BAGES, 129</td>\n",
       "    </tr>\n",
       "    <tr>\n",
       "      <th>3</th>\n",
       "      <td>8</td>\n",
       "      <td>9</td>\n",
       "      <td>4a30020e6926a2ba39f88be0f6bba5cb</td>\n",
       "      <td>41.377532</td>\n",
       "      <td>2.170732</td>\n",
       "      <td>C/ SANT OLEGUER, 2</td>\n",
       "    </tr>\n",
       "    <tr>\n",
       "      <th>4</th>\n",
       "      <td>15</td>\n",
       "      <td>11</td>\n",
       "      <td>e964297fbcd2fc96bb6632e5a530d0df</td>\n",
       "      <td>41.375116</td>\n",
       "      <td>2.152309</td>\n",
       "      <td>AV. PARAL.LEL, 194</td>\n",
       "    </tr>\n",
       "  </tbody>\n",
       "</table>\n",
       "</div>"
      ],
      "text/plain": [
       "   empty_slots  free_bikes                                id   latitude  \\\n",
       "0           23           7  dedcd93fbe85671e73c79baf58bd7fed  41.425364   \n",
       "1            3          22  5c10c2dba1c5a8e8d9dcbb251fd8eab7  41.430000   \n",
       "2           11          13  f1aaf083aaa04498aad975bc45bdc089  41.443365   \n",
       "3            8           9  4a30020e6926a2ba39f88be0f6bba5cb  41.377532   \n",
       "4           15          11  e964297fbcd2fc96bb6632e5a530d0df  41.375116   \n",
       "\n",
       "   longitude                              name  \n",
       "0   2.185207        C/ CARDENAL TEDESCHINI, 13  \n",
       "1   2.190246  RAMBLA DE L'ONZE DE SETEMBRE, 69  \n",
       "2   2.190630           PG. TORRAS I BAGES, 129  \n",
       "3   2.170732                C/ SANT OLEGUER, 2  \n",
       "4   2.152309                AV. PARAL.LEL, 194  "
      ]
     },
     "execution_count": 10,
     "metadata": {},
     "output_type": "execute_result"
    }
   ],
   "source": [
    "# Return all rows of bike stations dataframe \n",
    "bike_stations.head()"
   ]
  },
  {
   "cell_type": "code",
   "execution_count": 11,
   "metadata": {},
   "outputs": [
    {
     "data": {
      "text/plain": [
       "(505, 6)"
      ]
     },
     "execution_count": 11,
     "metadata": {},
     "output_type": "execute_result"
    }
   ],
   "source": [
    "# Get dimension of the bike stations dataframe \n",
    "bike_stations.shape"
   ]
  },
  {
   "cell_type": "code",
   "execution_count": 12,
   "metadata": {},
   "outputs": [
    {
     "name": "stdout",
     "output_type": "stream",
     "text": [
      "<class 'pandas.core.frame.DataFrame'>\n",
      "RangeIndex: 505 entries, 0 to 504\n",
      "Data columns (total 6 columns):\n",
      " #   Column       Non-Null Count  Dtype  \n",
      "---  ------       --------------  -----  \n",
      " 0   empty_slots  505 non-null    int64  \n",
      " 1   free_bikes   505 non-null    int64  \n",
      " 2   id           505 non-null    object \n",
      " 3   latitude     505 non-null    float64\n",
      " 4   longitude    505 non-null    float64\n",
      " 5   name         505 non-null    object \n",
      "dtypes: float64(2), int64(2), object(2)\n",
      "memory usage: 23.8+ KB\n"
     ]
    }
   ],
   "source": [
    "# Retrieve info of dataframe\n",
    "bike_stations.info()"
   ]
  },
  {
   "cell_type": "code",
   "execution_count": 16,
   "metadata": {},
   "outputs": [],
   "source": [
    "directory = 'C:/Users/Valerie/OneDrive/StatisticalModellingProject/Notebooks'\n",
    "file_path = 'bike_stations_barcelona.csv'\n",
    "\n",
    "if not os.path.exists(directory):\n",
    "    os.makedirs(directory)"
   ]
  },
  {
   "cell_type": "code",
   "execution_count": 17,
   "metadata": {},
   "outputs": [],
   "source": [
    "#save data to use in another notebook\n",
    "bike_stations.to_csv(file_path, index=False)"
   ]
  }
 ],
 "metadata": {
  "kernelspec": {
   "display_name": "Python 3",
   "language": "python",
   "name": "python3"
  },
  "language_info": {
   "codemirror_mode": {
    "name": "ipython",
    "version": 3
   },
   "file_extension": ".py",
   "mimetype": "text/x-python",
   "name": "python",
   "nbconvert_exporter": "python",
   "pygments_lexer": "ipython3",
   "version": "3.11.4"
  }
 },
 "nbformat": 4,
 "nbformat_minor": 4
}
