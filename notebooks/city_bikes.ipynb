{
 "cells": [
  {
   "cell_type": "markdown",
   "metadata": {},
   "source": [
    "# CityBikes"
   ]
  },
  {
   "cell_type": "markdown",
   "metadata": {},
   "source": [
    "Send a request to CityBikes for the city of your choice. "
import requests
import pandas as pd
import os 

## Step 1: Sending a request to CityBikes using /v2/networks endpoint 
city_name = 'Barcelona'
networks_url = 'http://api.citybik.es/v2/networks' 
response = requests.get(networks_url)
networks_data = response.json()

## Step 2: Find network information for Barcelona
network_info = next((network for network in networks_data['networks'] if network['location']['city'] == city_name), None)

if network_info:
    # Use network ID to retrieve info of bike stations in Barcelona
    network_id = network_info['id']
    api_url = f'http://api.citybik.es/v2/networks/{network_id}'

    response = requests.get(api_url)
    data = response.json()

# Checking retrieved info from Network ID 
print(type(data))
print(type(data['network']['stations']))
data['network']['stations'][0].keys()

<class 'dict'>
<class 'list'>
dict_keys(['empty_slots', 'extra', 'free_bikes', 'id', 'latitude', 'longitude', 'name', 'timestamp'])







   ]
  },
  {
   "cell_type": "code",
   "execution_count": null,
   "metadata": {},
   "outputs": [],
   "source": []
  },
  {
   "cell_type": "markdown",
   "metadata": {},
   "source": [
    "Parse through the response to get the details you want for the bike stations in that city (latitude, longitude, number of bikes). "
   ]
  },
  {
   "cell_type": "code",
   "execution_count": null,
   "metadata": {},
   "outputs": [],
   "source": []
  },
  {
   "cell_type": "markdown",
   "metadata": {},
   "source": [
    "Put your parsed results into a DataFrame."
   ]
  },
  {
   "cell_type": "code",
   "execution_count": null,
   "metadata": {},
   "outputs": [],
   "source": []
  }
 ],
 "metadata": {
  "kernelspec": {
   "display_name": "Python 3",
   "language": "python",
   "name": "python3"
  },
  "language_info": {
   "codemirror_mode": {
    "name": "ipython",
    "version": 3
   },
   "file_extension": ".py",
   "mimetype": "text/x-python",
   "name": "python",
   "nbconvert_exporter": "python",
   "pygments_lexer": "ipython3",
   "version": "3.8.5"
  }
 },
 "nbformat": 4,
 "nbformat_minor": 4
}

